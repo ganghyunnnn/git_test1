{
 "cells": [
  {
   "cell_type": "code",
   "execution_count": 9,
   "outputs": [
    {
     "name": "stdout",
     "output_type": "stream",
     "text": [
      "[0 1 2 3 4 5 6 7 8 9] [0 1 2 3 4 5 6 7 8] [0 2 4 6 8]\n",
      "(5,) 1 int32 5 4\n"
     ]
    }
   ],
   "source": [
    "#LAB 11-1\n",
    "import numpy as np\n",
    "\n",
    "a = np.array([0,1,2,3,4,5,6,7,8,9])\n",
    "b = np.array(range(9))\n",
    "c = np.array(range(0, 9, 2))\n",
    "\n",
    "print(a, b, c)\n",
    "print(c.shape, c.ndim, c.dtype, c.size, c.itemsize)"
   ],
   "metadata": {
    "collapsed": false,
    "pycharm": {
     "name": "#%%\n"
    }
   }
  },
  {
   "cell_type": "code",
   "execution_count": 20,
   "outputs": [
    {
     "name": "stdout",
     "output_type": "stream",
     "text": [
      "4\n",
      "[3 4]\n"
     ]
    }
   ],
   "source": [
    "a = np.array([[1,2],[2,3],[3,4]]) # 3X2 행렬\n",
    "print(a.max())\n",
    "print(a.max(axis=0))"
   ],
   "metadata": {
    "collapsed": false,
    "pycharm": {
     "name": "#%%\n"
    }
   }
  },
  {
   "cell_type": "code",
   "execution_count": 22,
   "outputs": [
    {
     "data": {
      "text/plain": "array([1, 2, 2, 3, 3, 4])"
     },
     "execution_count": 22,
     "metadata": {},
     "output_type": "execute_result"
    }
   ],
   "source": [
    "a.flatten()"
   ],
   "metadata": {
    "collapsed": false,
    "pycharm": {
     "name": "#%%\n"
    }
   }
  },
  {
   "cell_type": "code",
   "execution_count": 24,
   "outputs": [
    {
     "name": "stdout",
     "output_type": "stream",
     "text": [
      "[1, 2, 3, 3, 4, 5]\n"
     ]
    }
   ],
   "source": [
    "list_a = [1,2,3]\n",
    "list_b = [3,4,5]\n",
    "c = list_a+list_b\n",
    "print(c)"
   ],
   "metadata": {
    "collapsed": false,
    "pycharm": {
     "name": "#%%\n"
    }
   }
  },
  {
   "cell_type": "code",
   "execution_count": 25,
   "outputs": [
    {
     "data": {
      "text/plain": "array([4, 6, 8])"
     },
     "execution_count": 25,
     "metadata": {},
     "output_type": "execute_result"
    }
   ],
   "source": [
    "a = np.array([1,2,3])\n",
    "b = np.array([3,4,5])\n",
    "a+b"
   ],
   "metadata": {
    "collapsed": false,
    "pycharm": {
     "name": "#%%\n"
    }
   }
  },
  {
   "cell_type": "code",
   "execution_count": 31,
   "outputs": [
    {
     "name": "stdout",
     "output_type": "stream",
     "text": [
      "[[11 22]\n",
      " [33 44]] \n",
      "\n",
      " [[ -9 -18]\n",
      " [-27 -36]] \n",
      "\n",
      " [[ 10  40]\n",
      " [ 90 160]] \n",
      "\n",
      " [[0.1 0.1]\n",
      " [0.1 0.1]]\n"
     ]
    }
   ],
   "source": [
    "a = np.array([[1,2], [3,4]])\n",
    "b = np.array([[10,20], [30,40]])\n",
    "print(a+b,'\\n\\n', a-b,'\\n\\n', a*b,'\\n\\n', a/b)"
   ],
   "metadata": {
    "collapsed": false,
    "pycharm": {
     "name": "#%%\n"
    }
   }
  },
  {
   "cell_type": "code",
   "source": [
    "a = np.arange(0,24).reshape(4,3,2)\n",
    "print(a.ndim)\n",
    "\n",
    "b = np.arange(0,24).reshape(4,6)\n",
    "print(b)\n",
    "print(np.transpose(b))"
   ],
   "metadata": {
    "collapsed": false,
    "pycharm": {
     "name": "#%%\n"
    }
   },
   "execution_count": 38,
   "outputs": [
    {
     "name": "stdout",
     "output_type": "stream",
     "text": [
      "3\n",
      "[[ 0  1  2  3  4  5]\n",
      " [ 6  7  8  9 10 11]\n",
      " [12 13 14 15 16 17]\n",
      " [18 19 20 21 22 23]]\n",
      "[[ 0  6 12 18]\n",
      " [ 1  7 13 19]\n",
      " [ 2  8 14 20]\n",
      " [ 3  9 15 21]\n",
      " [ 4 10 16 22]\n",
      " [ 5 11 17 23]]\n"
     ]
    }
   ]
  },
  {
   "cell_type": "markdown",
   "source": [
    "## **Xarray**"
   ],
   "metadata": {
    "collapsed": false,
    "pycharm": {
     "name": "#%% md\n"
    }
   }
  },
  {
   "cell_type": "code",
   "execution_count": 39,
   "outputs": [
    {
     "name": "stdout",
     "output_type": "stream",
     "text": [
      "<class 'netCDF4._netCDF4.Variable'>\n",
      "float32 longitude(longitude)\n",
      "    units: degrees_east\n",
      "    long_name: Longitude\n",
      "    standard_name: longitude\n",
      "    cyclic: \n",
      "unlimited dimensions: \n",
      "current shape = (360,)\n",
      "filling on, default _FillValue of 9.969209968386869e+36 used\n"
     ]
    }
   ],
   "source": [
    "import netCDF4\n",
    "\n",
    "filename = 'HadISST_sst.nc'\n",
    "\n",
    "f = netCDF4.Dataset(filename, 'r+', format='NETCDF4')\n",
    "\n",
    "lon = f.variables['longitude']\n",
    "lon.cyclic = ''\n",
    "\n",
    "print(lon)\n",
    "\n",
    "f.close()"
   ],
   "metadata": {
    "collapsed": false,
    "pycharm": {
     "name": "#%%\n"
    }
   }
  },
  {
   "cell_type": "code",
   "execution_count": 10,
   "outputs": [
    {
     "data": {
      "text/plain": "(array([   363.,   3764.,  17915.,  49400.,  98131., 162676., 188533.,\n        114253.,  29571.,   1394.]),\n array([21.51994 , 22.44711 , 23.374277, 24.301447, 25.228617, 26.155785,\n        27.082954, 28.010124, 28.937294, 29.864462, 30.791632],\n       dtype=float32),\n <BarContainer object of 10 artists>)"
     },
     "execution_count": 10,
     "metadata": {},
     "output_type": "execute_result"
    },
    {
     "data": {
      "text/plain": "<Figure size 432x288 with 1 Axes>",
      "image/png": "[encoded data removed]"
     },
     "metadata": {
      "needs_background": "light"
     },
     "output_type": "display_data"
    }
   ],
   "source": [
    "import xarray as xr\n",
    "\n",
    "da = xr.open_dataset('HadISST_sst.nc')\n",
    "# print(da)\n",
    "\n",
    "data = da['sst']\n",
    "# print(data)\n",
    "\n",
    "# d1 = data.sel(longitude=slice(-170,-120), latitude=slice(5,-5), time=slice('1901-01-01', '2011-12-31')).mean(axis=1).mean(axis=1)\n",
    "# d1 = data.sel(latitude=slice(5,-5), time=slice('1901-01-01', '2011-12-31')).mean(axis=0)\n",
    "d1 = data.sel(longitude=slice(-170,-120), latitude=slice(5,-5), time=slice('1901-01-01', '2011-12-31'))\n",
    "# print(d1)\n",
    "# d1.to_netcdf('saved_sst.nc')\n",
    "\n",
    "d1.plot()"
   ],
   "metadata": {
    "collapsed": false,
    "pycharm": {
     "name": "#%%\n"
    }
   }
  },
  {
   "cell_type": "code",
   "execution_count": 11,
   "outputs": [
    {
     "name": "stdout",
     "output_type": "stream",
     "text": [
      "<xarray.DataArray 'sst' (time: 1332, latitude: 10, longitude: 50)>\n",
      "array([[[ 0.7301655 ,  0.755785  ,  0.8193245 , ...,  0.61483574,\n",
      "          0.5749645 ,  0.55524063],\n",
      "        [ 0.73876953,  0.766613  ,  0.82613564, ...,  0.631073  ,\n",
      "          0.5964527 ,  0.5785713 ],\n",
      "        [ 0.8350811 ,  0.8775749 ,  0.9408226 , ...,  0.6718483 ,\n",
      "          0.6560688 ,  0.64722633],\n",
      "        ...,\n",
      "        [ 0.964695  ,  0.99440575,  1.0487003 , ...,  0.6307106 ,\n",
      "          0.63962364,  0.6283264 ],\n",
      "        [ 0.9090729 ,  0.92781067,  0.9615612 , ...,  0.5734558 ,\n",
      "          0.57268333,  0.5537987 ],\n",
      "        [ 0.8950672 ,  0.91098976,  0.9447117 , ...,  0.5519886 ,\n",
      "          0.54782486,  0.52848816]],\n",
      "\n",
      "       [[ 0.24440765,  0.23512268,  0.22270393, ..., -0.02900124,\n",
      "         -0.07191086, -0.08567047],\n",
      "        [ 0.24330139,  0.23566246,  0.22311401, ..., -0.00819588,\n",
      "         -0.05113983, -0.06608391],\n",
      "        [ 0.25639153,  0.2755394 ,  0.30456352, ...,  0.01958656,\n",
      "         -0.00839233, -0.03106499],\n",
      "...\n",
      "        [-0.9989052 , -1.0434799 , -1.066042  , ..., -1.2109985 ,\n",
      "         -1.2081833 , -1.202919  ],\n",
      "        [-0.92710495, -0.9565697 , -0.97335434, ..., -0.9110489 ,\n",
      "         -0.9270935 , -0.9558506 ],\n",
      "        [-0.8083744 , -0.8401871 , -0.86883354, ..., -0.721056  ,\n",
      "         -0.7501354 , -0.79157066]],\n",
      "\n",
      "       [[-0.7063179 , -0.6997318 , -0.5781059 , ..., -0.62524605,\n",
      "         -0.5021744 , -0.5158596 ],\n",
      "        [-0.89819336, -0.92035675, -0.8542118 , ..., -0.7371292 ,\n",
      "         -0.5752659 , -0.5649166 ],\n",
      "        [-1.1173935 , -1.1928997 , -1.2497635 , ..., -0.90130615,\n",
      "         -0.74093246, -0.7131653 ],\n",
      "        ...,\n",
      "        [-1.2993641 , -1.3561764 , -1.383976  , ..., -0.7586365 ,\n",
      "         -0.8429508 , -0.85315704],\n",
      "        [-1.2059193 , -1.2475147 , -1.3030262 , ..., -0.6080837 ,\n",
      "         -0.66156197, -0.6933346 ],\n",
      "        [-1.0801067 , -1.0999317 , -1.1591969 , ..., -0.52386856,\n",
      "         -0.56308746, -0.599514  ]]], dtype=float32)\n",
      "Coordinates:\n",
      "  * time       (time) datetime64[ns] 1901-01-16T12:00:00 ... 2011-12-16T12:00:00\n",
      "  * latitude   (latitude) float32 4.5 3.5 2.5 1.5 0.5 -0.5 -1.5 -2.5 -3.5 -4.5\n",
      "  * longitude  (longitude) float32 -169.5 -168.5 -167.5 ... -122.5 -121.5 -120.5\n",
      "    month      (time) int64 1 2 3 4 5 6 7 8 9 10 11 ... 2 3 4 5 6 7 8 9 10 11 12\n"
     ]
    }
   ],
   "source": [
    "newsst_anom = d1.groupby('time.month')-d1.groupby('time.month').mean(dim='time')\n",
    "print(newsst_anom)"
   ],
   "metadata": {
    "collapsed": false,
    "pycharm": {
     "name": "#%%\n"
    }
   }
  },
  {
   "cell_type": "code",
   "execution_count": 14,
   "outputs": [
    {
     "data": {
      "text/plain": "<matplotlib.collections.QuadMesh at 0x2a71262a190>"
     },
     "execution_count": 14,
     "metadata": {},
     "output_type": "execute_result"
    },
    {
     "data": {
      "text/plain": "<Figure size 432x288 with 2 Axes>",
      "image/png": "[encoded data removed]"
     },
     "metadata": {
      "needs_background": "light"
     },
     "output_type": "display_data"
    }
   ],
   "source": [
    "import matplotlib.pyplot as plt\n",
    "\n",
    "# d1.plot(cmap=plt.cm.Blues)\n",
    "d1.sel(time=slice('2010-1-1','2010-12-31')).mean(axis=0).plot()"
   ],
   "metadata": {
    "collapsed": false,
    "pycharm": {
     "name": "#%%\n"
    }
   }
  }
 ],
 "metadata": {
  "kernelspec": {
   "display_name": "Python 3",
   "language": "python",
   "name": "python3"
  },
  "language_info": {
   "codemirror_mode": {
    "name": "ipython",
    "version": 2
   },
   "file_extension": ".py",
   "mimetype": "text/x-python",
   "name": "python",
   "nbconvert_exporter": "python",
   "pygments_lexer": "ipython2",
   "version": "2.7.6"
  }
 },
 "nbformat": 4,
 "nbformat_minor": 0
}
