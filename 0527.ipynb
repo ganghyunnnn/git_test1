{
 "cells": [
  {
   "cell_type": "code",
   "execution_count": 1,
   "metadata": {
    "collapsed": true
   },
   "outputs": [
    {
     "name": "stderr",
     "output_type": "stream",
     "text": [
      "Exception in Tkinter callback\n",
      "Traceback (most recent call last):\n",
      "  File \"C:\\Anaconda3\\envs\\jebal\\lib\\tkinter\\__init__.py\", line 1892, in __call__\n",
      "    return self.func(*args)\n",
      "  File \"C:\\Anaconda3\\envs\\jebal\\lib\\turtle.py\", line 674, in eventfun\n",
      "    fun(x, y)\n",
      "  File \"C:\\Users\\ganghyun\\AppData\\Local\\Temp\\ipykernel_12200\\4200906137.py\", line 50, in screenLeftClick\n",
      "    rect.drawShape()\n",
      "  File \"C:\\Users\\ganghyun\\AppData\\Local\\Temp\\ipykernel_12200\\4200906137.py\", line 44, in drawShape\n",
      "    self.myTurtle.goto(sx2, sy2)\n",
      "  File \"C:\\Anaconda3\\envs\\jebal\\lib\\turtle.py\", line 1777, in goto\n",
      "    self._goto(Vec2D(x, y))\n",
      "  File \"C:\\Anaconda3\\envs\\jebal\\lib\\turtle.py\", line 3159, in _goto\n",
      "    screen._pointlist(self.currentLineItem),\n",
      "  File \"C:\\Anaconda3\\envs\\jebal\\lib\\turtle.py\", line 754, in _pointlist\n",
      "    cl = self.cv.coords(item)\n",
      "  File \"<string>\", line 1, in coords\n",
      "  File \"C:\\Anaconda3\\envs\\jebal\\lib\\tkinter\\__init__.py\", line 2766, in coords\n",
      "    self.tk.call((self._w, 'coords') + args))]\n",
      "_tkinter.TclError: invalid command name \".!canvas\"\n",
      "Exception in Tkinter callback\n",
      "Traceback (most recent call last):\n",
      "  File \"C:\\Anaconda3\\envs\\jebal\\lib\\tkinter\\__init__.py\", line 1892, in __call__\n",
      "    return self.func(*args)\n",
      "  File \"C:\\Anaconda3\\envs\\jebal\\lib\\turtle.py\", line 674, in eventfun\n",
      "    fun(x, y)\n",
      "  File \"C:\\Users\\ganghyun\\AppData\\Local\\Temp\\ipykernel_12200\\4200906137.py\", line 50, in screenLeftClick\n",
      "    rect.drawShape()\n",
      "  File \"C:\\Users\\ganghyun\\AppData\\Local\\Temp\\ipykernel_12200\\4200906137.py\", line 41, in drawShape\n",
      "    self.myTurtle.goto(sx1, sy1)\n",
      "  File \"C:\\Anaconda3\\envs\\jebal\\lib\\turtle.py\", line 1777, in goto\n",
      "    self._goto(Vec2D(x, y))\n",
      "  File \"C:\\Anaconda3\\envs\\jebal\\lib\\turtle.py\", line 3180, in _goto\n",
      "    self._update()\n",
      "  File \"C:\\Anaconda3\\envs\\jebal\\lib\\turtle.py\", line 2661, in _update\n",
      "    self._update_data()\n",
      "  File \"C:\\Anaconda3\\envs\\jebal\\lib\\turtle.py\", line 2647, in _update_data\n",
      "    self.screen._incrementudc()\n",
      "  File \"C:\\Anaconda3\\envs\\jebal\\lib\\turtle.py\", line 1293, in _incrementudc\n",
      "    raise Terminator\n",
      "turtle.Terminator\n",
      "Exception in Tkinter callback\n",
      "Traceback (most recent call last):\n",
      "  File \"C:\\Anaconda3\\envs\\jebal\\lib\\tkinter\\__init__.py\", line 1892, in __call__\n",
      "    return self.func(*args)\n",
      "  File \"C:\\Anaconda3\\envs\\jebal\\lib\\turtle.py\", line 674, in eventfun\n",
      "    fun(x, y)\n",
      "  File \"C:\\Users\\ganghyun\\AppData\\Local\\Temp\\ipykernel_12200\\4200906137.py\", line 50, in screenLeftClick\n",
      "    rect.drawShape()\n",
      "  File \"C:\\Users\\ganghyun\\AppData\\Local\\Temp\\ipykernel_12200\\4200906137.py\", line 42, in drawShape\n",
      "    self.myTurtle.pendown()\n",
      "  File \"C:\\Anaconda3\\envs\\jebal\\lib\\turtle.py\", line 2122, in pendown\n",
      "    self.pen(pendown=True)\n",
      "  File \"C:\\Anaconda3\\envs\\jebal\\lib\\turtle.py\", line 2426, in pen\n",
      "    self._newLine()\n",
      "  File \"C:\\Anaconda3\\envs\\jebal\\lib\\turtle.py\", line 3292, in _newLine\n",
      "    self.screen._drawline(self.currentLineItem, top=True)\n",
      "  File \"C:\\Anaconda3\\envs\\jebal\\lib\\turtle.py\", line 550, in _drawline\n",
      "    self.cv.tag_raise(lineitem)\n",
      "  File \"<string>\", line 1, in tag_raise\n",
      "  File \"C:\\Anaconda3\\envs\\jebal\\lib\\tkinter\\__init__.py\", line 2942, in tag_raise\n",
      "    self.tk.call((self._w, 'raise') + args)\n",
      "_tkinter.TclError: invalid command name \".!canvas\"\n",
      "Exception in Tkinter callback\n",
      "Traceback (most recent call last):\n",
      "  File \"C:\\Anaconda3\\envs\\jebal\\lib\\tkinter\\__init__.py\", line 1892, in __call__\n",
      "    return self.func(*args)\n",
      "  File \"C:\\Anaconda3\\envs\\jebal\\lib\\turtle.py\", line 674, in eventfun\n",
      "    fun(x, y)\n",
      "  File \"C:\\Users\\ganghyun\\AppData\\Local\\Temp\\ipykernel_12200\\4200906137.py\", line 50, in screenLeftClick\n",
      "    rect.drawShape()\n",
      "  File \"C:\\Users\\ganghyun\\AppData\\Local\\Temp\\ipykernel_12200\\4200906137.py\", line 44, in drawShape\n",
      "    self.myTurtle.goto(sx2, sy2)\n",
      "  File \"C:\\Anaconda3\\envs\\jebal\\lib\\turtle.py\", line 1777, in goto\n",
      "    self._goto(Vec2D(x, y))\n",
      "  File \"C:\\Anaconda3\\envs\\jebal\\lib\\turtle.py\", line 3177, in _goto\n",
      "    screen._drawline(self.drawingLineItem,\n",
      "  File \"C:\\Anaconda3\\envs\\jebal\\lib\\turtle.py\", line 544, in _drawline\n",
      "    self.cv.coords(lineitem, *cl)\n",
      "  File \"<string>\", line 1, in coords\n",
      "  File \"C:\\Anaconda3\\envs\\jebal\\lib\\tkinter\\__init__.py\", line 2766, in coords\n",
      "    self.tk.call((self._w, 'coords') + args))]\n",
      "_tkinter.TclError: invalid command name \".!canvas\"\n"
     ]
    }
   ],
   "source": []
  },
  {
   "cell_type": "code",
   "execution_count": null,
   "outputs": [],
   "source": [],
   "metadata": {
    "collapsed": false,
    "pycharm": {
     "name": "#%%\n"
    }
   }
  },
  {
   "cell_type": "code",
   "execution_count": null,
   "outputs": [],
   "source": [],
   "metadata": {
    "collapsed": false,
    "pycharm": {
     "name": "#%%\n"
    }
   }
  },
  {
   "cell_type": "code",
   "execution_count": null,
   "outputs": [],
   "source": [],
   "metadata": {
    "collapsed": false,
    "pycharm": {
     "name": "#%%\n"
    }
   }
  },
  {
   "cell_type": "code",
   "execution_count": null,
   "outputs": [],
   "source": [],
   "metadata": {
    "collapsed": false,
    "pycharm": {
     "name": "#%%\n"
    }
   }
  },
  {
   "cell_type": "code",
   "execution_count": null,
   "outputs": [],
   "source": [],
   "metadata": {
    "collapsed": false,
    "pycharm": {
     "name": "#%%\n"
    }
   }
  },
  {
   "cell_type": "code",
   "execution_count": null,
   "outputs": [],
   "source": [],
   "metadata": {
    "collapsed": false,
    "pycharm": {
     "name": "#%%\n"
    }
   }
  }
 ],
 "metadata": {
  "kernelspec": {
   "display_name": "Python 3",
   "language": "python",
   "name": "python3"
  },
  "language_info": {
   "codemirror_mode": {
    "name": "ipython",
    "version": 2
   },
   "file_extension": ".py",
   "mimetype": "text/x-python",
   "name": "python",
   "nbconvert_exporter": "python",
   "pygments_lexer": "ipython2",
   "version": "2.7.6"
  }
 },
 "nbformat": 4,
 "nbformat_minor": 0
}